{
 "cells": [
  {
   "cell_type": "code",
   "execution_count": 1,
   "id": "9446e9ab",
   "metadata": {},
   "outputs": [],
   "source": [
    "import pandas as pd;\n",
    "import numpy as np;\n",
    "import matplotlib.pyplot as plt;\n",
    "import seaborn as sns;"
   ]
  },
  {
   "cell_type": "code",
   "execution_count": 76,
   "id": "a3c89921",
   "metadata": {},
   "outputs": [],
   "source": [
    "data = pd.read_csv('../data/MOD13Q1_061/postprocessed/results.csv')\n",
    "\n",
    "data['value'] = data.value * 0.0001 * 0.0001\n",
    "\n",
    "reindex = dict(zip(data.wkt.unique(), range(data.wkt.nunique())))\n",
    "\n",
    "data['pixelid'] = data.wkt.map(reindex)\n",
    "\n",
    "data = data.drop('wkt',axis=1)\n",
    "\n",
    "data['date'] = pd.to_datetime(data['date'])\n",
    "\n",
    "base_year_value = data[data.date == data.date.min()].set_index('pixelid').value\n",
    "\n",
    "data = data.set_index(['pixelid','date'])"
   ]
  },
  {
   "cell_type": "code",
   "execution_count": 77,
   "id": "10cf55f7",
   "metadata": {},
   "outputs": [],
   "source": [
    "data['basecomp'] = (data.value / base_year_value)"
   ]
  },
  {
   "cell_type": "code",
   "execution_count": 78,
   "id": "51d16ae3",
   "metadata": {},
   "outputs": [
    {
     "data": {
      "text/html": [
       "<div>\n",
       "<style scoped>\n",
       "    .dataframe tbody tr th:only-of-type {\n",
       "        vertical-align: middle;\n",
       "    }\n",
       "\n",
       "    .dataframe tbody tr th {\n",
       "        vertical-align: top;\n",
       "    }\n",
       "\n",
       "    .dataframe thead th {\n",
       "        text-align: right;\n",
       "    }\n",
       "</style>\n",
       "<table border=\"1\" class=\"dataframe\">\n",
       "  <thead>\n",
       "    <tr style=\"text-align: right;\">\n",
       "      <th></th>\n",
       "      <th></th>\n",
       "      <th>value</th>\n",
       "      <th>basecomp</th>\n",
       "    </tr>\n",
       "    <tr>\n",
       "      <th>pixelid</th>\n",
       "      <th>date</th>\n",
       "      <th></th>\n",
       "      <th></th>\n",
       "    </tr>\n",
       "  </thead>\n",
       "  <tbody>\n",
       "    <tr>\n",
       "      <th>0</th>\n",
       "      <th>2009-09-14</th>\n",
       "      <td>0.7328</td>\n",
       "      <td>1.0</td>\n",
       "    </tr>\n",
       "    <tr>\n",
       "      <th>1</th>\n",
       "      <th>2009-09-14</th>\n",
       "      <td>0.7731</td>\n",
       "      <td>1.0</td>\n",
       "    </tr>\n",
       "    <tr>\n",
       "      <th>2</th>\n",
       "      <th>2009-09-14</th>\n",
       "      <td>0.6646</td>\n",
       "      <td>1.0</td>\n",
       "    </tr>\n",
       "    <tr>\n",
       "      <th>3</th>\n",
       "      <th>2009-09-14</th>\n",
       "      <td>0.6394</td>\n",
       "      <td>1.0</td>\n",
       "    </tr>\n",
       "    <tr>\n",
       "      <th>4</th>\n",
       "      <th>2009-09-14</th>\n",
       "      <td>0.7272</td>\n",
       "      <td>1.0</td>\n",
       "    </tr>\n",
       "  </tbody>\n",
       "</table>\n",
       "</div>"
      ],
      "text/plain": [
       "                     value  basecomp\n",
       "pixelid date                        \n",
       "0       2009-09-14  0.7328       1.0\n",
       "1       2009-09-14  0.7731       1.0\n",
       "2       2009-09-14  0.6646       1.0\n",
       "3       2009-09-14  0.6394       1.0\n",
       "4       2009-09-14  0.7272       1.0"
      ]
     },
     "execution_count": 78,
     "metadata": {},
     "output_type": "execute_result"
    }
   ],
   "source": [
    "data.sort_values(['date','pixelid']).head()"
   ]
  },
  {
   "cell_type": "code",
   "execution_count": 79,
   "id": "64e1e7f4",
   "metadata": {},
   "outputs": [
    {
     "data": {
      "text/plain": [
       "(2451414, 2)"
      ]
     },
     "execution_count": 79,
     "metadata": {},
     "output_type": "execute_result"
    }
   ],
   "source": [
    "data.shape"
   ]
  },
  {
   "cell_type": "code",
   "execution_count": 80,
   "id": "57098dae",
   "metadata": {},
   "outputs": [
    {
     "data": {
      "text/plain": [
       "value       float64\n",
       "basecomp    float64\n",
       "dtype: object"
      ]
     },
     "execution_count": 80,
     "metadata": {},
     "output_type": "execute_result"
    }
   ],
   "source": [
    "data.dtypes"
   ]
  },
  {
   "cell_type": "code",
   "execution_count": 81,
   "id": "f13b77c6",
   "metadata": {},
   "outputs": [
    {
     "ename": "KeyError",
     "evalue": "\"None of ['pixelid', 'date'] are in the columns\"",
     "output_type": "error",
     "traceback": [
      "\u001b[0;31m---------------------------------------------------------------------------\u001b[0m",
      "\u001b[0;31mKeyError\u001b[0m                                  Traceback (most recent call last)",
      "\u001b[0;32m/var/folders/2x/t13x4mn107zd1xc9j8ks6q300000gn/T/ipykernel_18841/4228732837.py\u001b[0m in \u001b[0;36m?\u001b[0;34m()\u001b[0m\n\u001b[0;32m----> 1\u001b[0;31m \u001b[0mdata\u001b[0m \u001b[0;34m=\u001b[0m \u001b[0mdata\u001b[0m\u001b[0;34m.\u001b[0m\u001b[0mset_index\u001b[0m\u001b[0;34m(\u001b[0m\u001b[0;34m[\u001b[0m\u001b[0;34m'pixelid'\u001b[0m\u001b[0;34m,\u001b[0m\u001b[0;34m'date'\u001b[0m\u001b[0;34m]\u001b[0m\u001b[0;34m)\u001b[0m\u001b[0;34m\u001b[0m\u001b[0;34m\u001b[0m\u001b[0m\n\u001b[0m",
      "\u001b[0;32m/opt/homebrew/anaconda3/envs/ndvi/lib/python3.12/site-packages/pandas/core/frame.py\u001b[0m in \u001b[0;36m?\u001b[0;34m(self, keys, drop, append, inplace, verify_integrity)\u001b[0m\n\u001b[1;32m   6118\u001b[0m                     \u001b[0;32mif\u001b[0m \u001b[0;32mnot\u001b[0m \u001b[0mfound\u001b[0m\u001b[0;34m:\u001b[0m\u001b[0;34m\u001b[0m\u001b[0;34m\u001b[0m\u001b[0m\n\u001b[1;32m   6119\u001b[0m                         \u001b[0mmissing\u001b[0m\u001b[0;34m.\u001b[0m\u001b[0mappend\u001b[0m\u001b[0;34m(\u001b[0m\u001b[0mcol\u001b[0m\u001b[0;34m)\u001b[0m\u001b[0;34m\u001b[0m\u001b[0;34m\u001b[0m\u001b[0m\n\u001b[1;32m   6120\u001b[0m \u001b[0;34m\u001b[0m\u001b[0m\n\u001b[1;32m   6121\u001b[0m         \u001b[0;32mif\u001b[0m \u001b[0mmissing\u001b[0m\u001b[0;34m:\u001b[0m\u001b[0;34m\u001b[0m\u001b[0;34m\u001b[0m\u001b[0m\n\u001b[0;32m-> 6122\u001b[0;31m             \u001b[0;32mraise\u001b[0m \u001b[0mKeyError\u001b[0m\u001b[0;34m(\u001b[0m\u001b[0;34mf\"\u001b[0m\u001b[0;34mNone of \u001b[0m\u001b[0;34m{\u001b[0m\u001b[0mmissing\u001b[0m\u001b[0;34m}\u001b[0m\u001b[0;34m are in the columns\u001b[0m\u001b[0;34m\"\u001b[0m\u001b[0;34m)\u001b[0m\u001b[0;34m\u001b[0m\u001b[0;34m\u001b[0m\u001b[0m\n\u001b[0m\u001b[1;32m   6123\u001b[0m \u001b[0;34m\u001b[0m\u001b[0m\n\u001b[1;32m   6124\u001b[0m         \u001b[0;32mif\u001b[0m \u001b[0minplace\u001b[0m\u001b[0;34m:\u001b[0m\u001b[0;34m\u001b[0m\u001b[0;34m\u001b[0m\u001b[0m\n\u001b[1;32m   6125\u001b[0m             \u001b[0mframe\u001b[0m \u001b[0;34m=\u001b[0m \u001b[0mself\u001b[0m\u001b[0;34m\u001b[0m\u001b[0;34m\u001b[0m\u001b[0m\n",
      "\u001b[0;31mKeyError\u001b[0m: \"None of ['pixelid', 'date'] are in the columns\""
     ]
    }
   ],
   "source": [
    "data = data.set_index(['pixelid','date'])"
   ]
  },
  {
   "cell_type": "code",
   "execution_count": null,
   "id": "23688082",
   "metadata": {},
   "outputs": [],
   "source": [
    "data"
   ]
  },
  {
   "cell_type": "code",
   "execution_count": 82,
   "id": "586a36a4",
   "metadata": {},
   "outputs": [
    {
     "data": {
      "text/html": [
       "<div>\n",
       "<style scoped>\n",
       "    .dataframe tbody tr th:only-of-type {\n",
       "        vertical-align: middle;\n",
       "    }\n",
       "\n",
       "    .dataframe tbody tr th {\n",
       "        vertical-align: top;\n",
       "    }\n",
       "\n",
       "    .dataframe thead th {\n",
       "        text-align: right;\n",
       "    }\n",
       "</style>\n",
       "<table border=\"1\" class=\"dataframe\">\n",
       "  <thead>\n",
       "    <tr style=\"text-align: right;\">\n",
       "      <th></th>\n",
       "      <th></th>\n",
       "      <th>value</th>\n",
       "      <th>basecomp</th>\n",
       "    </tr>\n",
       "    <tr>\n",
       "      <th>pixelid</th>\n",
       "      <th>date</th>\n",
       "      <th></th>\n",
       "      <th></th>\n",
       "    </tr>\n",
       "  </thead>\n",
       "  <tbody>\n",
       "    <tr>\n",
       "      <th>201265</th>\n",
       "      <th>2011-09-14</th>\n",
       "      <td>0.2381</td>\n",
       "      <td>-238.100000</td>\n",
       "    </tr>\n",
       "    <tr>\n",
       "      <th>1197</th>\n",
       "      <th>2018-09-14</th>\n",
       "      <td>0.5396</td>\n",
       "      <td>-199.851852</td>\n",
       "    </tr>\n",
       "    <tr>\n",
       "      <th rowspan=\"2\" valign=\"top\">201265</th>\n",
       "      <th>2020-09-13</th>\n",
       "      <td>0.1631</td>\n",
       "      <td>-163.100000</td>\n",
       "    </tr>\n",
       "    <tr>\n",
       "      <th>2018-09-14</th>\n",
       "      <td>0.1469</td>\n",
       "      <td>-146.900000</td>\n",
       "    </tr>\n",
       "    <tr>\n",
       "      <th>252377</th>\n",
       "      <th>2011-09-14</th>\n",
       "      <td>0.4647</td>\n",
       "      <td>-94.836735</td>\n",
       "    </tr>\n",
       "    <tr>\n",
       "      <th>...</th>\n",
       "      <th>...</th>\n",
       "      <td>...</td>\n",
       "      <td>...</td>\n",
       "    </tr>\n",
       "    <tr>\n",
       "      <th>5459</th>\n",
       "      <th>2013-09-14</th>\n",
       "      <td>0.4697</td>\n",
       "      <td>-3.223747</td>\n",
       "    </tr>\n",
       "    <tr>\n",
       "      <th rowspan=\"2\" valign=\"top\">4909</th>\n",
       "      <th>2020-09-13</th>\n",
       "      <td>0.4415</td>\n",
       "      <td>-3.030199</td>\n",
       "    </tr>\n",
       "    <tr>\n",
       "      <th>2013-09-14</th>\n",
       "      <td>0.4297</td>\n",
       "      <td>-2.949211</td>\n",
       "    </tr>\n",
       "    <tr>\n",
       "      <th>188630</th>\n",
       "      <th>2011-09-14</th>\n",
       "      <td>-0.1599</td>\n",
       "      <td>-2.665000</td>\n",
       "    </tr>\n",
       "    <tr>\n",
       "      <th>189181</th>\n",
       "      <th>2013-09-14</th>\n",
       "      <td>-0.1844</td>\n",
       "      <td>-2.626781</td>\n",
       "    </tr>\n",
       "  </tbody>\n",
       "</table>\n",
       "<p>100 rows × 2 columns</p>\n",
       "</div>"
      ],
      "text/plain": [
       "                     value    basecomp\n",
       "pixelid date                          \n",
       "201265  2011-09-14  0.2381 -238.100000\n",
       "1197    2018-09-14  0.5396 -199.851852\n",
       "201265  2020-09-13  0.1631 -163.100000\n",
       "        2018-09-14  0.1469 -146.900000\n",
       "252377  2011-09-14  0.4647  -94.836735\n",
       "...                    ...         ...\n",
       "5459    2013-09-14  0.4697   -3.223747\n",
       "4909    2020-09-13  0.4415   -3.030199\n",
       "        2013-09-14  0.4297   -2.949211\n",
       "188630  2011-09-14 -0.1599   -2.665000\n",
       "189181  2013-09-14 -0.1844   -2.626781\n",
       "\n",
       "[100 rows x 2 columns]"
      ]
     },
     "execution_count": 82,
     "metadata": {},
     "output_type": "execute_result"
    }
   ],
   "source": [
    "data.sort_values('basecomp').dropna().head(100)"
   ]
  },
  {
   "cell_type": "code",
   "execution_count": 83,
   "id": "64fdab6e",
   "metadata": {},
   "outputs": [
    {
     "data": {
      "text/plain": [
       "<Axes: xlabel='value', ylabel='Count'>"
      ]
     },
     "execution_count": 83,
     "metadata": {},
     "output_type": "execute_result"
    },
    {
     "data": {
      "image/png": "[encoded data removed]",
      "text/plain": [
       "<Figure size 640x480 with 1 Axes>"
      ]
     },
     "metadata": {},
     "output_type": "display_data"
    }
   ],
   "source": [
    "sns.histplot(x = 'value', bins = 20, data=data)"
   ]
  },
  {
   "cell_type": "code",
   "execution_count": 59,
   "id": "fb906d81",
   "metadata": {},
   "outputs": [
    {
     "ename": "AttributeError",
     "evalue": "'tuple' object has no attribute 'min'",
     "output_type": "error",
     "traceback": [
      "\u001b[0;31m---------------------------------------------------------------------------\u001b[0m",
      "\u001b[0;31mAttributeError\u001b[0m                            Traceback (most recent call last)",
      "Cell \u001b[0;32mIn[59], line 1\u001b[0m\n\u001b[0;32m----> 1\u001b[0m sns\u001b[38;5;241m.\u001b[39mscatterplot(x \u001b[38;5;241m=\u001b[39m \u001b[38;5;124m'\u001b[39m\u001b[38;5;124mvalue\u001b[39m\u001b[38;5;124m'\u001b[39m, y\u001b[38;5;241m=\u001b[39m\u001b[38;5;124m'\u001b[39m\u001b[38;5;124mbasecomp\u001b[39m\u001b[38;5;124m'\u001b[39m, data \u001b[38;5;241m=\u001b[39m data[data\u001b[38;5;241m.\u001b[39mindex[\u001b[38;5;241m1\u001b[39m]\u001b[38;5;241m!=\u001b[39m\u001b[43mdata\u001b[49m\u001b[38;5;241;43m.\u001b[39;49m\u001b[43mindex\u001b[49m\u001b[43m[\u001b[49m\u001b[38;5;241;43m1\u001b[39;49m\u001b[43m]\u001b[49m\u001b[38;5;241;43m.\u001b[39;49m\u001b[43mmin\u001b[49m()])\n",
      "\u001b[0;31mAttributeError\u001b[0m: 'tuple' object has no attribute 'min'"
     ]
    }
   ],
   "source": [
    "sns.scatterplot(x = 'value', y='basecomp', data = data)"
   ]
  },
  {
   "cell_type": "code",
   "execution_count": 71,
   "id": "3729da9a",
   "metadata": {},
   "outputs": [
    {
     "data": {
      "text/plain": [
       "(np.float64(1.0162524780497137), np.float64(0.46187152109882296))"
      ]
     },
     "execution_count": 71,
     "metadata": {},
     "output_type": "execute_result"
    }
   ],
   "source": [
    "data.basecomp.mean(), data.basecomp.std()"
   ]
  },
  {
   "cell_type": "code",
   "execution_count": 75,
   "id": "f4f68d74",
   "metadata": {},
   "outputs": [
    {
     "data": {
      "text/plain": [
       "<Axes: xlabel='date', ylabel='basecomp'>"
      ]
     },
     "execution_count": 75,
     "metadata": {},
     "output_type": "execute_result"
    },
    {
     "data": {
      "image/png": "[encoded data removed]",
      "text/plain": [
       "<Figure size 640x480 with 1 Axes>"
      ]
     },
     "metadata": {},
     "output_type": "display_data"
    }
   ],
   "source": [
    "sns.boxplot(x = 'date', y = 'basecomp', data = data.sort_values('date'))"
   ]
  },
  {
   "cell_type": "code",
   "execution_count": 102,
   "id": "d983fec0",
   "metadata": {},
   "outputs": [],
   "source": [
    "import pandas as pd\n",
    "\n",
    "def mark_high_ndvi_pixels(df, value, threshold=1):\n",
    "    \"\"\"\n",
    "    Marks pixels as 1 if their entire NDVI time series is > threshold, otherwise 0.\n",
    "\n",
    "    Parameters:\n",
    "    - df (pd.DataFrame): DataFrame with columns ['pixel_id', 'date', 'value'].\n",
    "    - threshold (float): NDVI threshold to compare against (default is 1).\n",
    "\n",
    "    Returns:\n",
    "    - pd.DataFrame: DataFrame with 'pixel_id' and 'mark' (1 if all values > threshold, else 0).\n",
    "    \"\"\"\n",
    "    # Group by pixel_id and check if all values are above threshold\n",
    "    result = df.groupby('pixelid')[value].apply(lambda x: (x >= threshold).all()).astype(int).reset_index()\n",
    "    result.rename(columns={value: 'mark'}, inplace=True)\n",
    "    \n",
    "    return result"
   ]
  },
  {
   "cell_type": "code",
   "execution_count": 103,
   "id": "f943a8f0",
   "metadata": {},
   "outputs": [],
   "source": [
    "marked = mark_high_ndvi_pixels(data, 'basecomp')"
   ]
  },
  {
   "cell_type": "code",
   "execution_count": 108,
   "id": "6ac67c49",
   "metadata": {},
   "outputs": [
    {
     "data": {
      "text/html": [
       "<div>\n",
       "<style scoped>\n",
       "    .dataframe tbody tr th:only-of-type {\n",
       "        vertical-align: middle;\n",
       "    }\n",
       "\n",
       "    .dataframe tbody tr th {\n",
       "        vertical-align: top;\n",
       "    }\n",
       "\n",
       "    .dataframe thead th {\n",
       "        text-align: right;\n",
       "    }\n",
       "</style>\n",
       "<table border=\"1\" class=\"dataframe\">\n",
       "  <thead>\n",
       "    <tr style=\"text-align: right;\">\n",
       "      <th></th>\n",
       "      <th>pixelid</th>\n",
       "      <th>mark</th>\n",
       "    </tr>\n",
       "  </thead>\n",
       "  <tbody>\n",
       "    <tr>\n",
       "      <th>0</th>\n",
       "      <td>0</td>\n",
       "      <td>0</td>\n",
       "    </tr>\n",
       "    <tr>\n",
       "      <th>1</th>\n",
       "      <td>1</td>\n",
       "      <td>0</td>\n",
       "    </tr>\n",
       "    <tr>\n",
       "      <th>2</th>\n",
       "      <td>2</td>\n",
       "      <td>0</td>\n",
       "    </tr>\n",
       "    <tr>\n",
       "      <th>3</th>\n",
       "      <td>3</td>\n",
       "      <td>0</td>\n",
       "    </tr>\n",
       "    <tr>\n",
       "      <th>4</th>\n",
       "      <td>4</td>\n",
       "      <td>0</td>\n",
       "    </tr>\n",
       "    <tr>\n",
       "      <th>...</th>\n",
       "      <td>...</td>\n",
       "      <td>...</td>\n",
       "    </tr>\n",
       "    <tr>\n",
       "      <th>408564</th>\n",
       "      <td>408564</td>\n",
       "      <td>1</td>\n",
       "    </tr>\n",
       "    <tr>\n",
       "      <th>408565</th>\n",
       "      <td>408565</td>\n",
       "      <td>0</td>\n",
       "    </tr>\n",
       "    <tr>\n",
       "      <th>408566</th>\n",
       "      <td>408566</td>\n",
       "      <td>0</td>\n",
       "    </tr>\n",
       "    <tr>\n",
       "      <th>408567</th>\n",
       "      <td>408567</td>\n",
       "      <td>0</td>\n",
       "    </tr>\n",
       "    <tr>\n",
       "      <th>408568</th>\n",
       "      <td>408568</td>\n",
       "      <td>0</td>\n",
       "    </tr>\n",
       "  </tbody>\n",
       "</table>\n",
       "<p>408569 rows × 2 columns</p>\n",
       "</div>"
      ],
      "text/plain": [
       "        pixelid  mark\n",
       "0             0     0\n",
       "1             1     0\n",
       "2             2     0\n",
       "3             3     0\n",
       "4             4     0\n",
       "...         ...   ...\n",
       "408564   408564     1\n",
       "408565   408565     0\n",
       "408566   408566     0\n",
       "408567   408567     0\n",
       "408568   408568     0\n",
       "\n",
       "[408569 rows x 2 columns]"
      ]
     },
     "execution_count": 108,
     "metadata": {},
     "output_type": "execute_result"
    }
   ],
   "source": [
    "marked"
   ]
  },
  {
   "cell_type": "code",
   "execution_count": 105,
   "id": "619b6c5b",
   "metadata": {},
   "outputs": [],
   "source": [
    "df = data.reset_index()"
   ]
  },
  {
   "cell_type": "code",
   "execution_count": 107,
   "id": "8166ae66",
   "metadata": {},
   "outputs": [
    {
     "data": {
      "text/html": [
       "<div>\n",
       "<style scoped>\n",
       "    .dataframe tbody tr th:only-of-type {\n",
       "        vertical-align: middle;\n",
       "    }\n",
       "\n",
       "    .dataframe tbody tr th {\n",
       "        vertical-align: top;\n",
       "    }\n",
       "\n",
       "    .dataframe thead th {\n",
       "        text-align: right;\n",
       "    }\n",
       "</style>\n",
       "<table border=\"1\" class=\"dataframe\">\n",
       "  <thead>\n",
       "    <tr style=\"text-align: right;\">\n",
       "      <th></th>\n",
       "      <th>pixelid</th>\n",
       "      <th>date</th>\n",
       "      <th>value</th>\n",
       "      <th>basecomp</th>\n",
       "    </tr>\n",
       "  </thead>\n",
       "  <tbody>\n",
       "    <tr>\n",
       "      <th>817140</th>\n",
       "      <td>2</td>\n",
       "      <td>2009-09-14</td>\n",
       "      <td>0.6646</td>\n",
       "      <td>1.000000</td>\n",
       "    </tr>\n",
       "    <tr>\n",
       "      <th>408571</th>\n",
       "      <td>2</td>\n",
       "      <td>2011-09-14</td>\n",
       "      <td>0.8060</td>\n",
       "      <td>1.212760</td>\n",
       "    </tr>\n",
       "    <tr>\n",
       "      <th>2042847</th>\n",
       "      <td>2</td>\n",
       "      <td>2013-09-14</td>\n",
       "      <td>0.6563</td>\n",
       "      <td>0.987511</td>\n",
       "    </tr>\n",
       "    <tr>\n",
       "      <th>2</th>\n",
       "      <td>2</td>\n",
       "      <td>2015-09-14</td>\n",
       "      <td>0.9124</td>\n",
       "      <td>1.372856</td>\n",
       "    </tr>\n",
       "    <tr>\n",
       "      <th>1225709</th>\n",
       "      <td>2</td>\n",
       "      <td>2018-09-14</td>\n",
       "      <td>0.8411</td>\n",
       "      <td>1.265573</td>\n",
       "    </tr>\n",
       "    <tr>\n",
       "      <th>1634278</th>\n",
       "      <td>2</td>\n",
       "      <td>2020-09-13</td>\n",
       "      <td>0.8490</td>\n",
       "      <td>1.277460</td>\n",
       "    </tr>\n",
       "  </tbody>\n",
       "</table>\n",
       "</div>"
      ],
      "text/plain": [
       "         pixelid       date   value  basecomp\n",
       "817140         2 2009-09-14  0.6646  1.000000\n",
       "408571         2 2011-09-14  0.8060  1.212760\n",
       "2042847        2 2013-09-14  0.6563  0.987511\n",
       "2              2 2015-09-14  0.9124  1.372856\n",
       "1225709        2 2018-09-14  0.8411  1.265573\n",
       "1634278        2 2020-09-13  0.8490  1.277460"
      ]
     },
     "execution_count": 107,
     "metadata": {},
     "output_type": "execute_result"
    }
   ],
   "source": [
    "df[df.pixelid==2].sort_values('date')"
   ]
  },
  {
   "cell_type": "code",
   "execution_count": null,
   "id": "1452296e",
   "metadata": {},
   "outputs": [],
   "source": []
  }
 ],
 "metadata": {
  "kernelspec": {
   "display_name": "NDVI",
   "language": "python",
   "name": "ndvi"
  },
  "language_info": {
   "codemirror_mode": {
    "name": "ipython",
    "version": 3
   },
   "file_extension": ".py",
   "mimetype": "text/x-python",
   "name": "python",
   "nbconvert_exporter": "python",
   "pygments_lexer": "ipython3",
   "version": "3.10.16"
  }
 },
 "nbformat": 4,
 "nbformat_minor": 5
}
