{
 "cells": [
  {
   "cell_type": "code",
   "execution_count": 1,
   "id": "16801a98",
   "metadata": {},
   "outputs": [
    {
     "name": "stderr",
     "output_type": "stream",
     "text": [
      "/opt/homebrew/anaconda3/envs/ndvi/lib/python3.12/site-packages/tqdm/auto.py:21: TqdmWarning: IProgress not found. Please update jupyter and ipywidgets. See https://ipywidgets.readthedocs.io/en/stable/user_install.html\n",
      "  from .autonotebook import tqdm as notebook_tqdm\n"
     ]
    }
   ],
   "source": [
    "import sys\n",
    "import os\n",
    "\n",
    "# Add the parent directory to the Python path\n",
    "sys.path.append(\"..\")\n",
    "import source_code as src"
   ]
  },
  {
   "cell_type": "code",
   "execution_count": 2,
   "id": "79af80c1-90a2-4447-a46b-a76a2130b486",
   "metadata": {},
   "outputs": [],
   "source": [
    "def get_files(dir_ = '../data/MOD13Q1_061'):\n",
    "    return [\n",
    "        os.path.join(dir_, f) for f in os.listdir(dir_) if f.endswith('hdf')\n",
    "    ]"
   ]
  },
  {
   "cell_type": "code",
   "execution_count": 3,
   "id": "dbb82b2d",
   "metadata": {},
   "outputs": [],
   "source": [
    "files = get_files()"
   ]
  },
  {
   "cell_type": "code",
   "execution_count": 4,
   "id": "c74b68c3",
   "metadata": {},
   "outputs": [
    {
     "data": {
      "text/plain": [
       "['../data/MOD13Q1_061/MOD13Q1.A2022353.h13v12.061.2023006034232.hdf']"
      ]
     },
     "execution_count": 4,
     "metadata": {},
     "output_type": "execute_result"
    }
   ],
   "source": [
    "files"
   ]
  },
  {
   "cell_type": "code",
   "execution_count": 5,
   "id": "24175945",
   "metadata": {},
   "outputs": [
    {
     "data": {
      "text/plain": [
       "'../data/MOD13Q1_061/MOD13Q1.A2022353.h13v12.061.2023006034232.hdf'"
      ]
     },
     "execution_count": 5,
     "metadata": {},
     "output_type": "execute_result"
    }
   ],
   "source": [
    "file = files[0]\n",
    "file"
   ]
  },
  {
   "cell_type": "code",
   "execution_count": 6,
   "id": "6847792c",
   "metadata": {},
   "outputs": [],
   "source": [
    "data, metadata = src.extract_hdf(file, data_field = '250m 16 days NDVI')"
   ]
  },
  {
   "cell_type": "code",
   "execution_count": 9,
   "id": "555277b3",
   "metadata": {},
   "outputs": [
    {
     "data": {
      "text/plain": [
       "array([[38910000., 42680000., 42680000., ...,       nan,       nan,\n",
       "              nan],\n",
       "       [37750000., 37210000., 39550000., ...,       nan,       nan,\n",
       "              nan],\n",
       "       [39440000., 38380000., 41420000., ...,       nan,       nan,\n",
       "              nan],\n",
       "       ...,\n",
       "       [20190000., 20910000., 21180000., ...,       nan,       nan,\n",
       "              nan],\n",
       "       [22140000., 22360000., 21120000., ...,       nan,       nan,\n",
       "              nan],\n",
       "       [21080000., 22620000., 22620000., ...,       nan,       nan,\n",
       "              nan]], shape=(4800, 4800))"
      ]
     },
     "execution_count": 9,
     "metadata": {},
     "output_type": "execute_result"
    }
   ],
   "source": [
    "data"
   ]
  },
  {
   "cell_type": "raw",
   "id": "da9e95fc",
   "metadata": {},
   "source": [
    "metadata"
   ]
  },
  {
   "cell_type": "code",
   "execution_count": 7,
   "id": "ad4fe8e9",
   "metadata": {},
   "outputs": [
    {
     "data": {
      "text/plain": [
       "'POLYGON ((-65.27036445731774 -39.99999999641088, -46.18802152977182 -39.99999999641088, -46.18802152977182 -29.99999999730591, -65.27036445731774 -29.99999999730591, -65.27036445731774 -39.99999999641088))'"
      ]
     },
     "execution_count": 7,
     "metadata": {},
     "output_type": "execute_result"
    }
   ],
   "source": [
    "file_bounding_box = src.convert_to_epsg4326(metadata)\n",
    "\n",
    "src.bounding_box_to_polygon(file_bounding_box).wkt"
   ]
  },
  {
   "cell_type": "code",
   "execution_count": 8,
   "id": "55911002",
   "metadata": {},
   "outputs": [
    {
     "data": {
      "text/plain": [
       "{'SwathStructure': {},\n",
       " 'GridStructure': {'GRID_1': {'GridName': 'MODIS_Grid_16DAY_250m_500m_VI',\n",
       "   'XDim': 4800,\n",
       "   'YDim': 4800,\n",
       "   'UpperLeftPointMtrs': (-5559752.598333, -3335851.559),\n",
       "   'LowerRightMtrs': (-4447802.078667, -4447802.078667),\n",
       "   'Projection': 'GCTP_SNSOID',\n",
       "   'ProjParams': (6371007.181,\n",
       "    0.0,\n",
       "    0.0,\n",
       "    0.0,\n",
       "    0.0,\n",
       "    0.0,\n",
       "    0.0,\n",
       "    0.0,\n",
       "    0.0,\n",
       "    0.0,\n",
       "    0.0,\n",
       "    0.0,\n",
       "    0.0),\n",
       "   'SphereCode': '-1',\n",
       "   'Dimension': {},\n",
       "   'DataField': {'DataField_1': {'DataFieldName': '250m 16 days NDVI',\n",
       "     'DataType': 'DFNT_INT16',\n",
       "     'DimList': ['YDim', 'XDim']},\n",
       "    'DataField_2': {'DataFieldName': '250m 16 days EVI',\n",
       "     'DataType': 'DFNT_INT16',\n",
       "     'DimList': ['YDim', 'XDim']},\n",
       "    'DataField_3': {'DataFieldName': '250m 16 days VI Quality',\n",
       "     'DataType': 'DFNT_UINT16',\n",
       "     'DimList': ['YDim', 'XDim']},\n",
       "    'DataField_4': {'DataFieldName': '250m 16 days red reflectance',\n",
       "     'DataType': 'DFNT_INT16',\n",
       "     'DimList': ['YDim', 'XDim']},\n",
       "    'DataField_5': {'DataFieldName': '250m 16 days NIR reflectance',\n",
       "     'DataType': 'DFNT_INT16',\n",
       "     'DimList': ['YDim', 'XDim']},\n",
       "    'DataField_6': {'DataFieldName': '250m 16 days blue reflectance',\n",
       "     'DataType': 'DFNT_INT16',\n",
       "     'DimList': ['YDim', 'XDim']},\n",
       "    'DataField_7': {'DataFieldName': '250m 16 days MIR reflectance',\n",
       "     'DataType': 'DFNT_INT16',\n",
       "     'DimList': ['YDim', 'XDim']},\n",
       "    'DataField_8': {'DataFieldName': '250m 16 days view zenith angle',\n",
       "     'DataType': 'DFNT_INT16',\n",
       "     'DimList': ['YDim', 'XDim']},\n",
       "    'DataField_9': {'DataFieldName': '250m 16 days sun zenith angle',\n",
       "     'DataType': 'DFNT_INT16',\n",
       "     'DimList': ['YDim', 'XDim']},\n",
       "    'DataField_10': {'DataFieldName': '250m 16 days relative azimuth angle',\n",
       "     'DataType': 'DFNT_INT16',\n",
       "     'DimList': ['YDim', 'XDim']},\n",
       "    'DataField_11': {'DataFieldName': '250m 16 days composite day of the year',\n",
       "     'DataType': 'DFNT_INT16',\n",
       "     'DimList': ['YDim', 'XDim']},\n",
       "    'DataField_12': {'DataFieldName': '250m 16 days pixel reliability',\n",
       "     'DataType': 'DFNT_INT8',\n",
       "     'DimList': ['YDim', 'XDim']}},\n",
       "   'MergedFields': {}}},\n",
       " 'PointStructure': {}}"
      ]
     },
     "execution_count": 8,
     "metadata": {},
     "output_type": "execute_result"
    }
   ],
   "source": [
    "metadata"
   ]
  },
  {
   "cell_type": "code",
   "execution_count": null,
   "id": "f51ab431",
   "metadata": {},
   "outputs": [],
   "source": [
    "def convert_sinu_to_dataframe(data3D):\n",
    "    \n",
    "    data = data3D.get().astype(float)\n",
    "\n",
    "    # Read attributes.\n",
    "    attrs = data3D.attributes(full=1)\n",
    "    lna=attrs[\"long_name\"]\n",
    "    long_name = lna[0]\n",
    "    vra=attrs[\"valid_range\"]\n",
    "    valid_range = vra[0]\n",
    "    fva=attrs[\"_FillValue\"]\n",
    "    _FillValue = fva[0]\n",
    "    sfa=attrs[\"scale_factor\"]\n",
    "    scale_factor = sfa[0]        \n",
    "    ua=attrs[\"units\"]\n",
    "    units = ua[0]\n",
    "    aoa=attrs[\"add_offset\"]\n",
    "    add_offset = aoa[0]\n",
    "\n",
    "    # Apply the attributes to the data.\n",
    "    invalid = np.logical_or(data < valid_range[0], data > valid_range[1])\n",
    "    invalid = np.logical_or(invalid, data == _FillValue)\n",
    "    data[invalid] = np.nan\n",
    "    data = (data - add_offset) * scale_factor\n",
    "    data = np.ma.masked_array(data, np.isnan(data))\n",
    "\n",
    "    # Construct the grid.  The needed information is in a global attribute\n",
    "    # called 'StructMetadata.0'.  Use regular expressions to tease out the\n",
    "    # extents of the grid.\n",
    "    fattrs = hdf.attributes(full=1)\n",
    "    ga = fattrs[\"StructMetadata.0\"]\n",
    "    gridmeta = ga[0]\n",
    "    ul_regex = re.compile(r'''UpperLeftPointMtrs=\\(\n",
    "                              (?P<upper_left_x>[+-]?\\d+\\.\\d+)\n",
    "                              ,\n",
    "                              (?P<upper_left_y>[+-]?\\d+\\.\\d+)\n",
    "                              \\)''', re.VERBOSE)\n",
    "\n",
    "    match = ul_regex.search(gridmeta)\n",
    "    x0 = np.float64(match.group('upper_left_x'))\n",
    "    y0 = np.float64(match.group('upper_left_y'))\n",
    "\n",
    "    lr_regex = re.compile(r'''LowerRightMtrs=\\(\n",
    "                              (?P<lower_right_x>[+-]?\\d+\\.\\d+)\n",
    "                              ,\n",
    "                              (?P<lower_right_y>[+-]?\\d+\\.\\d+)\n",
    "                              \\)''', re.VERBOSE)\n",
    "    match = lr_regex.search(gridmeta)\n",
    "    x1 = np.float64(match.group('lower_right_x'))\n",
    "    y1 = np.float64(match.group('lower_right_y'))\n",
    "    nx, ny = data.shape\n",
    "    \n",
    "    # Generate the sinusoidal grid\n",
    "    x = np.linspace(x0, x1, nx)\n",
    "    y = np.linspace(y0, y1, ny)\n",
    "    xv, yv = np.meshgrid(x, y)\n",
    "\n",
    "    # Define projection transformation\n",
    "    sinu = pyproj.Proj(\"+proj=sinu +R=6371007.181 +nadgrids=@null +wktext\")\n",
    "    wgs84 = pyproj.Proj(\"+init=EPSG:4326\")\n",
    "\n",
    "    # Convert all points to WGS84\n",
    "    lon, lat = pyproj.transform(sinu, wgs84, xv, yv)\n",
    "\n",
    "    data_list = []\n",
    "    \n",
    "    # Compute pixel size\n",
    "    pixel_width = (x1 - x0) / nx\n",
    "    pixel_height = (y1 - y0) / ny\n",
    "\n",
    "    for i in range(ny - 1):\n",
    "        for j in range(nx - 1):\n",
    "            # Define pixel corners in sinusoidal projection\n",
    "            min_x, min_y = xv[i, j], yv[i, j]\n",
    "            max_x, max_y = min_x + pixel_width, min_y + pixel_height\n",
    "\n",
    "            # Convert pixel corners to WGS84\n",
    "            ll = pyproj.transform(sinu, wgs84, min_x, min_y)  # Lower-left\n",
    "            lr = pyproj.transform(sinu, wgs84, max_x, min_y)  # Lower-right\n",
    "            ur = pyproj.transform(sinu, wgs84, max_x, max_y)  # Upper-right\n",
    "            ul = pyproj.transform(sinu, wgs84, min_x, max_y)  # Upper-left\n",
    "\n",
    "            # Create WKT polygon\n",
    "            polygon = Polygon([ll, lr, ur, ul, ll])\n",
    "            data_list.append((data[i, j], polygon.wkt))\n",
    "\n",
    "    # Create DataFrame\n",
    "    df = pd.DataFrame(data_list, columns=[\"value\", \"wkt\"])\n",
    "    \n",
    "    return df"
   ]
  }
 ],
 "metadata": {
  "kernelspec": {
   "display_name": "ndvi",
   "language": "python",
   "name": "ndvi"
  },
  "language_info": {
   "codemirror_mode": {
    "name": "ipython",
    "version": 3
   },
   "file_extension": ".py",
   "mimetype": "text/x-python",
   "name": "python",
   "nbconvert_exporter": "python",
   "pygments_lexer": "ipython3",
   "version": "3.12.8"
  }
 },
 "nbformat": 4,
 "nbformat_minor": 5
}
